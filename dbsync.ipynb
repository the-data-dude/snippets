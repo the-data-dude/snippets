{
 "cells": [
  {
   "cell_type": "markdown",
   "metadata": {},
   "source": []
  },
  {
   "cell_type": "code",
   "execution_count": 1,
   "metadata": {},
   "outputs": [
    {
     "name": "stderr",
     "output_type": "stream",
     "text": [
      "C:\\Users\\dark1n\\AppData\\Local\\Packages\\PythonSoftwareFoundation.Python.3.11_qbz5n2kfra8p0\\LocalCache\\local-packages\\Python311\\site-packages\\numpy\\_distributor_init.py:30: UserWarning: loaded more than 1 DLL from .libs:\n",
      "C:\\Users\\dark1n\\AppData\\Local\\Packages\\PythonSoftwareFoundation.Python.3.11_qbz5n2kfra8p0\\LocalCache\\local-packages\\Python311\\site-packages\\numpy\\.libs\\libopenblas64__v0.3.21-gcc_10_3_0.dll\n",
      "C:\\Users\\dark1n\\AppData\\Local\\Packages\\PythonSoftwareFoundation.Python.3.11_qbz5n2kfra8p0\\LocalCache\\local-packages\\Python311\\site-packages\\numpy\\.libs\\libopenblas64__v0.3.23-246-g3d31191b-gcc_10_3_0.dll\n",
      "  warnings.warn(\"loaded more than 1 DLL from .libs:\"\n"
     ]
    }
   ],
   "source": [
    "from sqlalchemy import create_engine, MetaData, Column, Table, text, inspect\n",
    "from sqlalchemy.types import Integer, Text, String\n",
    "import sqlite3\n",
    "import pandas as pd"
   ]
  },
  {
   "cell_type": "code",
   "execution_count": 2,
   "metadata": {},
   "outputs": [],
   "source": [
    "# cria e inicia a conexão com ambos os bancos, é na connection string que conseguimos passar os parâmetros de login\n",
    "# exemplo para mysql: mysql://{user}:{password]@{ip}/{dbname}\n",
    "\n",
    "source_engine = create_engine(\"sqlite:///source.db\")\n",
    "target_engine = create_engine(\"sqlite:///target.db\")\n",
    "\n",
    "source_conn = source_engine.connect()\n",
    "target_conn = target_engine.connect()"
   ]
  },
  {
   "cell_type": "code",
   "execution_count": 3,
   "metadata": {},
   "outputs": [
    {
     "data": {
      "text/html": [
       "<div>\n",
       "<style scoped>\n",
       "    .dataframe tbody tr th:only-of-type {\n",
       "        vertical-align: middle;\n",
       "    }\n",
       "\n",
       "    .dataframe tbody tr th {\n",
       "        vertical-align: top;\n",
       "    }\n",
       "\n",
       "    .dataframe thead th {\n",
       "        text-align: right;\n",
       "    }\n",
       "</style>\n",
       "<table border=\"1\" class=\"dataframe\">\n",
       "  <thead>\n",
       "    <tr style=\"text-align: right;\">\n",
       "      <th></th>\n",
       "      <th>id</th>\n",
       "      <th>name</th>\n",
       "    </tr>\n",
       "  </thead>\n",
       "  <tbody>\n",
       "    <tr>\n",
       "      <th>0</th>\n",
       "      <td>1</td>\n",
       "      <td>João</td>\n",
       "    </tr>\n",
       "    <tr>\n",
       "      <th>1</th>\n",
       "      <td>2</td>\n",
       "      <td>Maria</td>\n",
       "    </tr>\n",
       "    <tr>\n",
       "      <th>2</th>\n",
       "      <td>3</td>\n",
       "      <td>André</td>\n",
       "    </tr>\n",
       "  </tbody>\n",
       "</table>\n",
       "</div>"
      ],
      "text/plain": [
       "   id   name\n",
       "0   1   João\n",
       "1   2  Maria\n",
       "2   3  André"
      ]
     },
     "execution_count": 3,
     "metadata": {},
     "output_type": "execute_result"
    }
   ],
   "source": [
    "# popula dados no banco inicial\n",
    "\n",
    "metadata_obj = MetaData()\n",
    "\n",
    "users = Table(\n",
    "    'users',\n",
    "    metadata_obj,\n",
    "    Column(\"id\", Integer, primary_key=True, autoincrement=True),\n",
    "    Column(\"name\", String(60), nullable=False, key=\"name\")\n",
    ")\n",
    "\n",
    "if not inspect(source_engine).has_table(\"users\"):\n",
    "    users.create(source_engine)\n",
    "\n",
    "\n",
    "data = [\n",
    "    {'name': 'João'},\n",
    "    {'name': 'Maria'},\n",
    "    {'name': 'André'}\n",
    "]\n",
    "\n",
    "source_conn.execute(users.insert(), data)\n",
    "\n",
    "pd.read_sql(\"select * from users\", source_conn)\n"
   ]
  },
  {
   "cell_type": "code",
   "execution_count": 4,
   "metadata": {},
   "outputs": [],
   "source": [
    "#reflete os metadados da engine fonte com a engine target e cria-os no target\n",
    "metadata_obj.create_all(target_engine)"
   ]
  },
  {
   "cell_type": "code",
   "execution_count": 7,
   "metadata": {},
   "outputs": [
    {
     "data": {
      "text/html": [
       "<div>\n",
       "<style scoped>\n",
       "    .dataframe tbody tr th:only-of-type {\n",
       "        vertical-align: middle;\n",
       "    }\n",
       "\n",
       "    .dataframe tbody tr th {\n",
       "        vertical-align: top;\n",
       "    }\n",
       "\n",
       "    .dataframe thead th {\n",
       "        text-align: right;\n",
       "    }\n",
       "</style>\n",
       "<table border=\"1\" class=\"dataframe\">\n",
       "  <thead>\n",
       "    <tr style=\"text-align: right;\">\n",
       "      <th></th>\n",
       "      <th>id</th>\n",
       "      <th>name</th>\n",
       "    </tr>\n",
       "  </thead>\n",
       "  <tbody>\n",
       "    <tr>\n",
       "      <th>0</th>\n",
       "      <td>1</td>\n",
       "      <td>João</td>\n",
       "    </tr>\n",
       "    <tr>\n",
       "      <th>1</th>\n",
       "      <td>2</td>\n",
       "      <td>Maria</td>\n",
       "    </tr>\n",
       "    <tr>\n",
       "      <th>2</th>\n",
       "      <td>3</td>\n",
       "      <td>André</td>\n",
       "    </tr>\n",
       "  </tbody>\n",
       "</table>\n",
       "</div>"
      ],
      "text/plain": [
       "   id   name\n",
       "0   1   João\n",
       "1   2  Maria\n",
       "2   3  André"
      ]
     },
     "execution_count": 7,
     "metadata": {},
     "output_type": "execute_result"
    }
   ],
   "source": [
    "#lê as informações da tabela inicial usando um chunksize e insere os valores na tabela destino\n",
    "\n",
    "for df in pd.read_sql('SELECT * FROM users', con=source_conn, chunksize=1000):\n",
    "    df.to_sql(\n",
    "        con=target_conn,\n",
    "        name='users',\n",
    "        index=False,\n",
    "        if_exists='replace'\n",
    "    )\n",
    "\n",
    "\n",
    "pd.read_sql(\"select * from users\", target_conn)"
   ]
  },
  {
   "cell_type": "code",
   "execution_count": 13,
   "metadata": {},
   "outputs": [],
   "source": [
    "#tudo junto em uma classe!\n",
    "\n",
    "class dbsync:\n",
    "\n",
    "    def __init__(self, source_engine, target_engine, table_schema, chunksize, if_exists):\n",
    "        self.source_engine = source_engine\n",
    "        self.target_engine = target_engine\n",
    "        self.table_schema = table_schema\n",
    "        self.chunksize = chunksize\n",
    "        self.if_exists = if_exists\n",
    "        self.source_conn = source_engine.connect()\n",
    "        self.target_conn = target_engine.connect()\n",
    "\n",
    "    def run(self):\n",
    "        if not inspect(source_engine).has_table(self.table_schema.name):\n",
    "            raise ValueError('table not found on source db')\n",
    "\n",
    "        if not inspect(target_engine).has_table(self.table_schema.name):\n",
    "            self.table_schema.create(bind = target_conn)\n",
    "\n",
    "        for df in pd.read_sql(f\"SELECT * FROM {self.table_schema.name}\", con=source_conn, chunksize=self.chunksize):\n",
    "            df.to_sql(\n",
    "                con=target_conn,\n",
    "                name= self.table_schema.name,\n",
    "                index=False,\n",
    "                if_exists= self.if_exists\n",
    "            )        \n"
   ]
  },
  {
   "cell_type": "code",
   "execution_count": 14,
   "metadata": {},
   "outputs": [],
   "source": [
    "metadata_obj = MetaData()\n",
    "\n",
    "users = Table(\n",
    "    'users',\n",
    "    metadata_obj,\n",
    "    Column(\"id\", Integer, primary_key=True, autoincrement=True),\n",
    "    Column(\"name\", String(60), nullable=False, key=\"name\")\n",
    ")\n",
    "\n",
    "sync = dbsync(source_engine = source_engine, target_engine = target_engine, table_schema = users, chunksize=1024, if_exists='replace')\n",
    "sync.run()\n"
   ]
  },
  {
   "cell_type": "code",
   "execution_count": 15,
   "metadata": {},
   "outputs": [
    {
     "data": {
      "text/html": [
       "<div>\n",
       "<style scoped>\n",
       "    .dataframe tbody tr th:only-of-type {\n",
       "        vertical-align: middle;\n",
       "    }\n",
       "\n",
       "    .dataframe tbody tr th {\n",
       "        vertical-align: top;\n",
       "    }\n",
       "\n",
       "    .dataframe thead th {\n",
       "        text-align: right;\n",
       "    }\n",
       "</style>\n",
       "<table border=\"1\" class=\"dataframe\">\n",
       "  <thead>\n",
       "    <tr style=\"text-align: right;\">\n",
       "      <th></th>\n",
       "      <th>id</th>\n",
       "      <th>name</th>\n",
       "    </tr>\n",
       "  </thead>\n",
       "  <tbody>\n",
       "    <tr>\n",
       "      <th>0</th>\n",
       "      <td>1</td>\n",
       "      <td>João</td>\n",
       "    </tr>\n",
       "    <tr>\n",
       "      <th>1</th>\n",
       "      <td>2</td>\n",
       "      <td>Maria</td>\n",
       "    </tr>\n",
       "    <tr>\n",
       "      <th>2</th>\n",
       "      <td>3</td>\n",
       "      <td>André</td>\n",
       "    </tr>\n",
       "  </tbody>\n",
       "</table>\n",
       "</div>"
      ],
      "text/plain": [
       "   id   name\n",
       "0   1   João\n",
       "1   2  Maria\n",
       "2   3  André"
      ]
     },
     "execution_count": 15,
     "metadata": {},
     "output_type": "execute_result"
    }
   ],
   "source": [
    "pd.read_sql(\"select * from users\", target_conn)"
   ]
  },
  {
   "cell_type": "code",
   "execution_count": null,
   "metadata": {},
   "outputs": [],
   "source": []
  }
 ],
 "metadata": {
  "kernelspec": {
   "display_name": "Python 3",
   "language": "python",
   "name": "python3"
  },
  "language_info": {
   "codemirror_mode": {
    "name": "ipython",
    "version": 3
   },
   "file_extension": ".py",
   "mimetype": "text/x-python",
   "name": "python",
   "nbconvert_exporter": "python",
   "pygments_lexer": "ipython3",
   "version": "3.11.5"
  },
  "orig_nbformat": 4
 },
 "nbformat": 4,
 "nbformat_minor": 2
}
